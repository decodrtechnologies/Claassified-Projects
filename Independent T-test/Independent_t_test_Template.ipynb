{
  "nbformat": 4,
  "nbformat_minor": 0,
  "metadata": {
    "colab": {
      "name": "Independent t-test Template",
      "provenance": [],
      "collapsed_sections": []
    },
    "kernelspec": {
      "name": "python3",
      "display_name": "Python 3"
    }
  },
  "cells": [
    {
      "cell_type": "markdown",
      "metadata": {
        "id": "9ugAkv2GsCxG",
        "colab_type": "text"
      },
      "source": [
        "## T- Test\n",
        "T-test is mostly used to check the difference in the means of two samples"
      ]
    },
    {
      "cell_type": "markdown",
      "metadata": {
        "id": "12fux4p5spM_",
        "colab_type": "text"
      },
      "source": [
        "###Pre-processing"
      ]
    },
    {
      "cell_type": "markdown",
      "metadata": {
        "id": "g3ieOT20tAml",
        "colab_type": "text"
      },
      "source": [
        "The first step always is to pre-process the dataset."
      ]
    },
    {
      "cell_type": "code",
      "metadata": {
        "id": "E4dmDcJYguer",
        "colab_type": "code",
        "colab": {}
      },
      "source": [
        "#install researchpy\n",
        "!pip install researchpy\n",
        "## it combines pandas, scipy.stats and statsmodels to \n",
        "            ##get more complete information in a single API call"
      ],
      "execution_count": 0,
      "outputs": []
    },
    {
      "cell_type": "code",
      "metadata": {
        "id": "5kTgXnXJg7vB",
        "colab_type": "code",
        "colab": {}
      },
      "source": [
        "#import the libraries\n",
        "import statsmodels.api as sm\n",
        "import pandas as pd\n",
        "import numpy as np\n",
        "import seaborn as sns\n",
        "import matplotlib.pyplot as plt\n",
        "from sklearn.preprocessing import scale\n",
        "import researchpy as rc\n",
        "import warnings\n",
        "from scipy import stats\n",
        "%matplotlib inline"
      ],
      "execution_count": 0,
      "outputs": []
    },
    {
      "cell_type": "code",
      "metadata": {
        "id": "2DRzpqrPg7zJ",
        "colab_type": "code",
        "colab": {}
      },
      "source": [
        "#read the data\n",
        "df = pd.read_csv('/content/drive/My Drive/data_set/bike_sharing.csv')"
      ],
      "execution_count": 0,
      "outputs": []
    },
    {
      "cell_type": "code",
      "metadata": {
        "id": "vRG25rT-g72L",
        "colab_type": "code",
        "outputId": "12d6a07e-e6e5-491f-b0ad-d5f8511f8404",
        "colab": {
          "base_uri": "https://localhost:8080/",
          "height": 34
        }
      },
      "source": [
        "#check the shape\n",
        "#TODO : WRITE YOUR CODE HERE"
      ],
      "execution_count": 0,
      "outputs": [
        {
          "output_type": "execute_result",
          "data": {
            "text/plain": [
              "(10886, 12)"
            ]
          },
          "metadata": {
            "tags": []
          },
          "execution_count": 98
        }
      ]
    },
    {
      "cell_type": "code",
      "metadata": {
        "id": "AnC_68h3g75m",
        "colab_type": "code",
        "colab": {}
      },
      "source": [
        "#check the head\n",
        "# TODO : WRITE YOUR CODE HERE"
      ],
      "execution_count": 0,
      "outputs": []
    },
    {
      "cell_type": "code",
      "metadata": {
        "id": "lINZmfCfg79E",
        "colab_type": "code",
        "colab": {}
      },
      "source": [
        "#check the information\n",
        "# TODO : WRITE YOUR CODE HERE"
      ],
      "execution_count": 0,
      "outputs": []
    },
    {
      "cell_type": "code",
      "metadata": {
        "id": "EBRQRtJRr-HX",
        "colab_type": "code",
        "colab": {}
      },
      "source": [
        "#check the number of null values in each column\n",
        "# TODO : WRITE YOUR CODE HERE"
      ],
      "execution_count": 0,
      "outputs": []
    },
    {
      "cell_type": "code",
      "metadata": {
        "id": "-EWvn0ChuS2P",
        "colab_type": "code",
        "colab": {}
      },
      "source": [
        "# check the correlation between atemp and temp\n",
        "#TODO : Wirte your code here"
      ],
      "execution_count": 0,
      "outputs": []
    },
    {
      "cell_type": "code",
      "metadata": {
        "id": "B6mS1Je0g7_t",
        "colab_type": "code",
        "colab": {}
      },
      "source": [
        "#drop datetime\n",
        "#TODO : Write your code here"
      ],
      "execution_count": 0,
      "outputs": []
    },
    {
      "cell_type": "code",
      "metadata": {
        "id": "5AoNu7tBg8EJ",
        "colab_type": "code",
        "colab": {}
      },
      "source": [
        "#check the unique values in each column\n",
        "# TODO : Write code to check the number of unique values in each column"
      ],
      "execution_count": 0,
      "outputs": []
    },
    {
      "cell_type": "code",
      "metadata": {
        "id": "VnGk2wbawI4n",
        "colab_type": "code",
        "colab": {}
      },
      "source": [
        "#standardize all the numerical features   \n",
        "#scale takes the difference of each values from the mean and divide by standard deviation\n",
        "\n",
        "#TODO : Write your code here"
      ],
      "execution_count": 0,
      "outputs": []
    },
    {
      "cell_type": "markdown",
      "metadata": {
        "id": "RwgeliavwDq6",
        "colab_type": "text"
      },
      "source": [
        "###Preparing Data for t-test"
      ]
    },
    {
      "cell_type": "markdown",
      "metadata": {
        "id": "snDdAb-vqGqj",
        "colab_type": "text"
      },
      "source": [
        "Now we will perform t-test to check whether the number of bike rentals are dependent on workingday or not. For this we will use two sample t-test."
      ]
    },
    {
      "cell_type": "markdown",
      "metadata": {
        "id": "8fGrt5o6qXpg",
        "colab_type": "text"
      },
      "source": [
        "Two sample t-test is used to check whether the means of two samples(group) are same or different. We want to check whether the number of bikes rented on working day are different then number of bikes rented on non-working days."
      ]
    },
    {
      "cell_type": "markdown",
      "metadata": {
        "id": "84VMecLmp2T8",
        "colab_type": "text"
      },
      "source": [
        "Let's check the mean of bikes rented on working and non-working days."
      ]
    },
    {
      "cell_type": "code",
      "metadata": {
        "id": "LmuOmOotosWd",
        "colab_type": "code",
        "colab": {}
      },
      "source": [
        "#TODO : Write code to check the summary statistic of working days and non-working days"
      ],
      "execution_count": 0,
      "outputs": []
    },
    {
      "cell_type": "markdown",
      "metadata": {
        "id": "SLBoMu-Otkpw",
        "colab_type": "text"
      },
      "source": [
        "Steps for performing hypothesis testing.\n",
        "1. set up Null Hypothesis (H0)\n",
        "2. State the alternate hypothesis (H1)\n",
        "3. Set a significance level (alpha)\n",
        "4. Calculate test Statistics.\n",
        "5. Decision to accept or reject null hypothesis."
      ]
    },
    {
      "cell_type": "code",
      "metadata": {
        "id": "L5Wmz-E9g8HI",
        "colab_type": "code",
        "colab": {}
      },
      "source": [
        "#create 2 samples one for working days and one for non-working days\n",
        "sample_01 = df[df['workingday'] == 1]   \n",
        "sample_02 = df[df['workingday'] == 0]"
      ],
      "execution_count": 0,
      "outputs": []
    },
    {
      "cell_type": "code",
      "metadata": {
        "id": "s7h9q5gag8KV",
        "colab_type": "code",
        "colab": {}
      },
      "source": [
        "#check the shape of both the samples\n",
        "#TODO : Write your code here"
      ],
      "execution_count": 0,
      "outputs": []
    },
    {
      "cell_type": "code",
      "metadata": {
        "id": "4BFZMkLng8OC",
        "colab_type": "code",
        "colab": {}
      },
      "source": [
        "#make equal number of records in each sample\n",
        "#TODO : Write your code here"
      ],
      "execution_count": 0,
      "outputs": []
    },
    {
      "cell_type": "markdown",
      "metadata": {
        "id": "AtK1G-qx4ies",
        "colab_type": "text"
      },
      "source": [
        "Before directly jumping for hypothesis testing we have to check for different assumptions related to the kind of hypothesis test we want to perform."
      ]
    },
    {
      "cell_type": "markdown",
      "metadata": {
        "id": "q4hLo94Y5Iy0",
        "colab_type": "text"
      },
      "source": [
        "##Assumption for T-Test\n",
        "1. The variances of the 2 samples are equal(We will use Levene's test to check this assumption).\n",
        "2. The distrubtion of the residuals b/w the two groups should follow the normal distribution. We can plot histogram and see whether the distribution follows the normal distribution or not. We can also plot a Q-Q plot. We can check the normality using shapiro-wilks test as well.\n"
      ]
    },
    {
      "cell_type": "code",
      "metadata": {
        "id": "SBBiN9l_g8RS",
        "colab_type": "code",
        "colab": {}
      },
      "source": [
        "#Levene's test to check whether the variances of the two group are same.\n",
        "#H0 : Variances are same.\n",
        "#H1 : Variances are not same.\n",
        "#Alpha = 0.05%\n",
        "#if p-value > alpha (Cannot reject H0)\n",
        "#if p-value < alpha (Accept null hypothesis)"
      ],
      "execution_count": 0,
      "outputs": []
    },
    {
      "cell_type": "code",
      "metadata": {
        "id": "gfNV4Yt6g8Up",
        "colab_type": "code",
        "colab": {}
      },
      "source": [
        "#TODO : Write your code here for levene's test"
      ],
      "execution_count": 0,
      "outputs": []
    },
    {
      "cell_type": "markdown",
      "metadata": {
        "id": "jZ4X-xmPAEus",
        "colab_type": "text"
      },
      "source": [
        "###Check for normality"
      ]
    },
    {
      "cell_type": "markdown",
      "metadata": {
        "id": "O1APDWWh1Xty",
        "colab_type": "text"
      },
      "source": [
        "Take the difference between two samples and scale it to check the normality of the residuals."
      ]
    },
    {
      "cell_type": "code",
      "metadata": {
        "id": "qDePGQZ0g8Y9",
        "colab_type": "code",
        "colab": {}
      },
      "source": [
        "#we will scale the difference\n",
        "#we will take the difference b/w sample_01 and sample_02 and plot a histogram to check for normality\n",
        "\n",
        "#TODO : Write your code here"
      ],
      "execution_count": 0,
      "outputs": []
    },
    {
      "cell_type": "markdown",
      "metadata": {
        "id": "rNDWLi1r19Oy",
        "colab_type": "text"
      },
      "source": [
        "Q-Q plot, Generates the a probability of sample data against the quantiles of theoretical distributions."
      ]
    },
    {
      "cell_type": "code",
      "metadata": {
        "id": "cvc8Ad1g5y5a",
        "colab_type": "code",
        "colab": {}
      },
      "source": [
        "#q-q plot to check the normality\n",
        "\n",
        "#TODO: write your code here"
      ],
      "execution_count": 0,
      "outputs": []
    },
    {
      "cell_type": "markdown",
      "metadata": {
        "id": "idDfja603Knx",
        "colab_type": "text"
      },
      "source": [
        "Till now we have seen graphical methods to represent to check the assumption of normality. Now let's check is it with statstical test (Shapiro-Wilk Test)"
      ]
    },
    {
      "cell_type": "code",
      "metadata": {
        "id": "GIlQJfn75zAh",
        "colab_type": "code",
        "colab": {}
      },
      "source": [
        "#Stastical test for checking normality\n",
        "#Shapiro-wilk test\n",
        "#H0 : Normally distributed\n",
        "#H1 : Not Normally distributed"
      ],
      "execution_count": 0,
      "outputs": []
    },
    {
      "cell_type": "code",
      "metadata": {
        "id": "5gH3lSWZ-aCa",
        "colab_type": "code",
        "colab": {}
      },
      "source": [
        "# TODO : Write code for shapiro-wil test for alpha = 0.05"
      ],
      "execution_count": 0,
      "outputs": []
    },
    {
      "cell_type": "markdown",
      "metadata": {
        "id": "tfxAYTRTDuBQ",
        "colab_type": "text"
      },
      "source": [
        "##Independent Sample T-test"
      ]
    },
    {
      "cell_type": "code",
      "metadata": {
        "id": "ght1jQDx-aHX",
        "colab_type": "code",
        "colab": {}
      },
      "source": [
        "# H0 : There's no difference in mean (Bike rental doesn't depends on workingday)\n",
        "# H1 : There's a difference in mean (Bike rental depends on workingday)\n",
        "# Alpha : 0.05%\n",
        "alpha = 0.05\n",
        "\n",
        "#TODO : Write code for independent t-test"
      ],
      "execution_count": 0,
      "outputs": []
    },
    {
      "cell_type": "code",
      "metadata": {
        "id": "T1IH0W497sOF",
        "colab_type": "code",
        "colab": {}
      },
      "source": [
        ""
      ],
      "execution_count": 0,
      "outputs": []
    }
  ]
}