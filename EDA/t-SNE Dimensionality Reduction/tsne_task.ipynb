{
 "cells": [
  {
   "cell_type": "markdown",
   "metadata": {
    "_cell_guid": "dfab24ff-e2fe-b40e-bfbf-7f6cab2df037",
    "_uuid": "e9ea68ff00c69b5bef964c780df59fed50702414"
   },
   "source": [
    "# Implementation of t-SNE(t-distributed stochastic neighbor embedding) \n",
    "**Dimensionality reduction- Nonlinear Dimensionality Reduction**\n",
    ">* NON LINEAR\n",
    ">* UNSUPERVISED\n",
    "\n",
    "   \n",
    "   **Advantages of dimensionality reduction**\n",
    "1. It reduces the time and storage space required.\n",
    "2. Removal of multi-collinearity improves the interpretation of the parameters of the machine learning model.\n",
    "3. It becomes easier to visualize the data when reduced to very low dimensions such as 2D or 3D.\n",
    "4. It avoids the curse of dimensionality."
   ]
  },
  {
   "cell_type": "markdown",
   "metadata": {},
   "source": [
    "#### UNDERSTANDING t-SNE\n",
    "\n",
    "t-SNE (t-Distributed Stochastic Neighbor Embedding) is an algorithm used for dimensionality reduction. It is used for high dimensional datasets (images for example).\n",
    "It is more expensive than PCA and LDA but it gives better results for complex data as you will see below.    \n",
    "Reference to understand algorithm : [t-SNE](https://www.youtube.com/watch?v=NEaUSP4YerM)\n",
    "\n",
    "\n",
    "t-Distributed stochastic neighbor embedding (t-SNE) minimizes the divergence between two distributions: a distribution that measures pairwise similarities of the input objects and a distribution that measures pairwise similarities of the corresponding low-dimensional points in the embedding\n",
    "\n",
    "Drawbacks :\n",
    "- It is highly recommended to use another dimensionality reduction method (e.g. PCA for dense data or TruncatedSVD for sparse data)to reduce the number of dimensions to a reasonable amount (e.g. 50)if the number of features is very high.\n",
    "- Since t-SNE scales quadratically in the number of objects N, its applicability is limited to data sets with only a few thousand input objects; beyond that, learning becomes too slow to be practical (and the memory requirements become too large"
   ]
  },
  {
   "cell_type": "markdown",
   "metadata": {},
   "source": [
    "**Working process of t-SNE:**\n",
    " \n",
    "    Step 1 - Compute similarity matrix between all feature vectors\n",
    "    \n",
    "    Step 2 - Compute similarity matrix from map points\n",
    "    \n",
    "    Step 3 - Use gradient descent to minimimze distance between matrices"
   ]
  },
  {
   "cell_type": "markdown",
   "metadata": {},
   "source": [
    "## Practical Implementation\n",
    "### DATA\n",
    "\n",
    "We will be using a [pokemon dataset](https://www.kaggle.com/abcsds/pokemon) from the kaggle which has a very good collection of datasets.\n",
    "\n",
    "Features used in this project:\n",
    "- #\n",
    "- Name\n",
    "- Type 1\n",
    "- Total\n",
    "- HP\n",
    "- Attack\n",
    "- Defense\n",
    "- Sp. Atk\n",
    "- Sp. Def\n",
    "- Speed\n",
    "- Generation\n",
    "- Legendary"
   ]
  },
  {
   "cell_type": "markdown",
   "metadata": {},
   "source": [
    "### Requirement:\n",
    "- numpy\n",
    "- pandas\n",
    "- Matplotlib\n",
    "- seaborn\n",
    "- scikit learn"
   ]
  },
  {
   "cell_type": "markdown",
   "metadata": {},
   "source": [
    "### IMPORT THE LIBRARIES"
   ]
  },
  {
   "cell_type": "code",
   "execution_count": null,
   "metadata": {
    "_cell_guid": "1dab436e-3097-d8bc-47de-32f7946746a2",
    "_uuid": "a0b74c0a04ad4d87fbb343cad45af1080888e136"
   },
   "outputs": [],
   "source": [
    "\"\"\"# Import our relevant libraries\"\"\"\n"
   ]
  },
  {
   "cell_type": "markdown",
   "metadata": {
    "_cell_guid": "8ec9f222-99f3-389e-51af-562c4cef6e8a",
    "_uuid": "0d2283648a7fb6e274392df3c08dd0f1f43430ac"
   },
   "source": [
    "### LOAD DATA"
   ]
  },
  {
   "cell_type": "code",
   "execution_count": null,
   "metadata": {
    "_cell_guid": "ba1abac9-d007-2587-ebb0-f95fa9ef8738",
    "_uuid": "9d4da62a35fc268af58c5b0093076a15d2d05c11"
   },
   "outputs": [],
   "source": [
    "\"\"\"read the csv file using pandas library\"\"\"\n",
    "\n"
   ]
  },
  {
   "cell_type": "markdown",
   "metadata": {},
   "source": [
    "### DATA EXPLORATION"
   ]
  },
  {
   "cell_type": "code",
   "execution_count": null,
   "metadata": {},
   "outputs": [],
   "source": [
    "\"\"\" Display a description of the dataset\"\"\"\n",
    "\n"
   ]
  },
  {
   "cell_type": "code",
   "execution_count": null,
   "metadata": {
    "_cell_guid": "3fe7070d-d450-ff75-e1ed-5ff2389090ac",
    "_uuid": "91245c72416f033ca630d0cf4905086777c7656c"
   },
   "outputs": [],
   "source": [
    "\"\"\"Rename the variables with spaces in names\"\"\"\n",
    "\n"
   ]
  },
  {
   "cell_type": "markdown",
   "metadata": {},
   "source": [
    "# EDA"
   ]
  },
  {
   "cell_type": "code",
   "execution_count": null,
   "metadata": {},
   "outputs": [],
   "source": [
    "\"\"\"make a list of features you want to use for this project we will be using ('Total', 'HP', 'Attack', 'Defense', 'Sp. Atk', 'Sp. Def', 'Speed', 'Generation', \n",
    "            'Legendary') as features and ('Type1Id') as target \"\"\"\n",
    "\n",
    "\n",
    "\n",
    "\"\"\" As out tsne layout strongly depends on whether there are legendary pokemons in a dataset, \n",
    "    let's only consider non legendary pokemons. This is kind of decision is project specific and \n",
    "    should have some idea of the background of project\"\"\"\n",
    "\n"
   ]
  },
  {
   "cell_type": "code",
   "execution_count": null,
   "metadata": {},
   "outputs": [],
   "source": [
    "\"\"\"Normalise the features using StandarDcalar function\"\"\"\n",
    "\n"
   ]
  },
  {
   "cell_type": "markdown",
   "metadata": {},
   "source": [
    "**Fitting features for both PCA and TSNE**"
   ]
  },
  {
   "cell_type": "code",
   "execution_count": null,
   "metadata": {},
   "outputs": [],
   "source": [
    "\"\"\" fit the features for PCA AND TSNE function with lower dimension = 2 and learning rate = 600 \"\"\"\n",
    "\n"
   ]
  },
  {
   "cell_type": "code",
   "execution_count": null,
   "metadata": {},
   "outputs": [],
   "source": [
    "\"\"\" write the code to understand the relationship and dependency of differnt classes of target(\"Type1Id\") \n",
    "    by ploting the scatter plot of each pair of classes .\"\"\"\n",
    "\n"
   ]
  },
  {
   "cell_type": "markdown",
   "metadata": {},
   "source": [
    "**Neither tSNE or PCA are clustering methods even if in practice you can use them to see if/how your data form clusters.**"
   ]
  },
  {
   "cell_type": "code",
   "execution_count": null,
   "metadata": {},
   "outputs": [],
   "source": [
    "\"\"\" To visualise better and understand the TSNE and PCA better. Apply Kmeans algorithm to both the dataset\n",
    "    after doing respective dimensionality reduction technique with 4 clusters\"\"\"\n",
    "\n"
   ]
  },
  {
   "cell_type": "code",
   "execution_count": null,
   "metadata": {},
   "outputs": [],
   "source": [
    "\"\"\" Plot the scatter plot for both PCA and TSNE after clustering using Kmeans method\n",
    "    to understand through visualisation\"\"\"\n",
    "\n"
   ]
  },
  {
   "cell_type": "markdown",
   "metadata": {},
   "source": [
    "**OBSEVATIONS:**\n",
    "    Mention your observation"
   ]
  },
  {
   "cell_type": "code",
   "execution_count": null,
   "metadata": {},
   "outputs": [],
   "source": [
    "\"\"\" calculate the mean for each classes of the target feature\"\"\"\n",
    "\n"
   ]
  },
  {
   "cell_type": "markdown",
   "metadata": {},
   "source": [
    "**Beneath there are mean values of different pokemon stats for each cluster.**"
   ]
  },
  {
   "cell_type": "code",
   "execution_count": null,
   "metadata": {},
   "outputs": [],
   "source": [
    "\"\"\" list the features you are going to use. we will be using('Total', 'HP', 'Attack', 'Defense', 'Sp. Atk', 'Sp. Def')  \"\"\"\n",
    "\n",
    "\n",
    "\"\"\"plot the heat map of each feature  against the lower dimension component  AFTER TSNE \"\"\"\n"
   ]
  },
  {
   "cell_type": "code",
   "execution_count": null,
   "metadata": {
    "scrolled": true
   },
   "outputs": [],
   "source": [
    "\"\"\"plot the heat map of each feature  against the lower dimension component  AFTER PCA \"\"\"\n",
    "\n"
   ]
  },
  {
   "cell_type": "markdown",
   "metadata": {},
   "source": [
    "**OBSERVATION**\n",
    "\n",
    "Mention your observation\n"
   ]
  },
  {
   "cell_type": "markdown",
   "metadata": {},
   "source": [
    "### REFERENCE\n",
    "\n",
    "- https://distill.pub/2016/misread-tsne/"
   ]
  },
  {
   "cell_type": "code",
   "execution_count": null,
   "metadata": {},
   "outputs": [],
   "source": []
  }
 ],
 "metadata": {
  "_change_revision": 0,
  "_is_fork": false,
  "kernelspec": {
   "display_name": "Python 3",
   "language": "python",
   "name": "python3"
  },
  "language_info": {
   "codemirror_mode": {
    "name": "ipython",
    "version": 3
   },
   "file_extension": ".py",
   "mimetype": "text/x-python",
   "name": "python",
   "nbconvert_exporter": "python",
   "pygments_lexer": "ipython3",
   "version": "3.7.3"
  }
 },
 "nbformat": 4,
 "nbformat_minor": 1
}
