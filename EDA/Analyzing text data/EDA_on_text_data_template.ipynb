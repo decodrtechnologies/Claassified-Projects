{
  "nbformat": 4,
  "nbformat_minor": 0,
  "metadata": {
    "colab": {
      "name": "EDA on text data template.ipynb",
      "provenance": []
    },
    "kernelspec": {
      "name": "python3",
      "display_name": "Python 3"
    }
  },
  "cells": [
    {
      "cell_type": "markdown",
      "metadata": {
        "id": "s3X68qBLofdM",
        "colab_type": "text"
      },
      "source": [
        "## **Text data Analysis**\n",
        "\n",
        "Perform EDA on imdb review text data which has 50,000 reviews.\n",
        "\n",
        "**Task is to analyze text data using graphs**"
      ]
    },
    {
      "cell_type": "markdown",
      "metadata": {
        "id": "UOUcfJ01orIC",
        "colab_type": "text"
      },
      "source": [
        "## **Steps:**\n",
        "- Importing Libraries\n",
        "- Uploading  dataset\n",
        "- Analyzing data\n",
        " - Pie chart of sentiment \n",
        " - Bar graph of sentiment\n",
        " - Lenth distribution visualization\n",
        " - Frequency of words Distribution\n",
        " - Most common Words using Wordcloud\n",
        " - Frequency of word wrt sentiment\n",
        "- Conclusion"
      ]
    },
    {
      "cell_type": "markdown",
      "metadata": {
        "id": "D2buk6VHppNG",
        "colab_type": "text"
      },
      "source": [
        "## **Importing required Libraries**"
      ]
    },
    {
      "cell_type": "code",
      "metadata": {
        "id": "iaYZgsEyoe1b",
        "colab_type": "code",
        "colab": {}
      },
      "source": [
        "import numpy as np\n",
        "import pandas as pd\n",
        "import matplotlib.pyplot as plt\n",
        "from sklearn import preprocessing\n",
        "from sklearn.feature_extraction.text import CountVectorizer\n",
        "from nltk.probability import FreqDist\n",
        "from wordcloud import WordCloud, ImageColorGenerator\n",
        "from collections import Counter\n",
        "import nltk\n",
        "from nltk.corpus import stopwords"
      ],
      "execution_count": 0,
      "outputs": []
    },
    {
      "cell_type": "markdown",
      "metadata": {
        "id": "_a2eQGHtptAo",
        "colab_type": "text"
      },
      "source": [
        "## **Uploading Dataset**"
      ]
    },
    {
      "cell_type": "code",
      "metadata": {
        "id": "QafCVoQEpwln",
        "colab_type": "code",
        "colab": {}
      },
      "source": [
        "data = # Write your code here"
      ],
      "execution_count": 0,
      "outputs": []
    },
    {
      "cell_type": "markdown",
      "metadata": {
        "id": "NnVkSoDmp2_5",
        "colab_type": "text"
      },
      "source": [
        "## **Analyzing Data**"
      ]
    },
    {
      "cell_type": "code",
      "metadata": {
        "id": "UAXUZ-7jp3iy",
        "colab_type": "code",
        "colab": {}
      },
      "source": [
        "#Display the top 5 rows and column\n"
      ],
      "execution_count": 0,
      "outputs": []
    },
    {
      "cell_type": "code",
      "metadata": {
        "id": "ni4G6Lrpp6FY",
        "colab_type": "code",
        "colab": {}
      },
      "source": [
        "# Describe the data using describe method \n"
      ],
      "execution_count": 0,
      "outputs": []
    },
    {
      "cell_type": "code",
      "metadata": {
        "id": "gsAEFuLpp-UX",
        "colab_type": "code",
        "colab": {}
      },
      "source": [
        "# Convert sentiment to integer as 0 for negative and 1 for positive \n"
      ],
      "execution_count": 0,
      "outputs": []
    },
    {
      "cell_type": "code",
      "metadata": {
        "id": "7EMzXvuYqFoR",
        "colab_type": "code",
        "colab": {}
      },
      "source": [
        "# Check if changes are done \n"
      ],
      "execution_count": 0,
      "outputs": []
    },
    {
      "cell_type": "markdown",
      "metadata": {
        "id": "pzoBR7TTqPjA",
        "colab_type": "text"
      },
      "source": [
        "**Pie chart of sentiment**\n",
        "\n",
        "Plotthe pie chart of sentiment distribution"
      ]
    },
    {
      "cell_type": "code",
      "metadata": {
        "id": "PbGXDgwUqR8r",
        "colab_type": "code",
        "colab": {}
      },
      "source": [
        "# Plot Pie chart of sentiment column \n",
        "\n",
        "# Write your code here"
      ],
      "execution_count": 0,
      "outputs": []
    },
    {
      "cell_type": "markdown",
      "metadata": {
        "id": "rGPceItcqZ7C",
        "colab_type": "text"
      },
      "source": [
        "**Bar graph of sentiment**\n",
        "\n",
        "Plot the bar graph of sentiment distribution"
      ]
    },
    {
      "cell_type": "code",
      "metadata": {
        "id": "gxPeTa6VqdIO",
        "colab_type": "code",
        "colab": {}
      },
      "source": [
        "# Write your code here"
      ],
      "execution_count": 0,
      "outputs": []
    },
    {
      "cell_type": "markdown",
      "metadata": {
        "id": "Y-dWp0rKqjfp",
        "colab_type": "text"
      },
      "source": [
        "**Removing Stop words**\n",
        "\n",
        "\n",
        "Remove the stop words using nltk."
      ]
    },
    {
      "cell_type": "code",
      "metadata": {
        "id": "Jc_htZA-qgmw",
        "colab_type": "code",
        "colab": {}
      },
      "source": [
        "# Write your code here"
      ],
      "execution_count": 0,
      "outputs": []
    },
    {
      "cell_type": "markdown",
      "metadata": {
        "id": "s3TWYj_Bokm1",
        "colab_type": "text"
      },
      "source": [
        "**Lenth distribution visualization**"
      ]
    },
    {
      "cell_type": "code",
      "metadata": {
        "id": "ldqYul_lq6F_",
        "colab_type": "code",
        "colab": {}
      },
      "source": [
        "#Plot bar graph that will show length of review distribution\n",
        "\n",
        "# Write your code here"
      ],
      "execution_count": 0,
      "outputs": []
    },
    {
      "cell_type": "markdown",
      "metadata": {
        "id": "VdtgnarXrDf3",
        "colab_type": "text"
      },
      "source": [
        "**Frequency of words Distribution**"
      ]
    },
    {
      "cell_type": "code",
      "metadata": {
        "id": "6NvLAQrkrEB3",
        "colab_type": "code",
        "colab": {}
      },
      "source": [
        "#plot graph that will show the frequency of words occuring\n",
        "\n",
        "# Write your code here"
      ],
      "execution_count": 0,
      "outputs": []
    },
    {
      "cell_type": "markdown",
      "metadata": {
        "id": "7obgJ125rKmA",
        "colab_type": "text"
      },
      "source": [
        "**Most common Words using Wordcloud**\n",
        "\n",
        "Word Cloud is a data visualization technique used for representing text data in which the size of each word indicates its frequency or importance. Significant textual data points can be highlighted using a word cloud. Word clouds are widely used for analyzing data from social network websites."
      ]
    },
    {
      "cell_type": "code",
      "metadata": {
        "id": "kGylUnerrLNH",
        "colab_type": "code",
        "colab": {}
      },
      "source": [
        "# Extract 100 most common words\n",
        "\n",
        "# Write code to conver review data to string\n",
        "\n",
        "mostcommon = # Write your code here"
      ],
      "execution_count": 0,
      "outputs": []
    },
    {
      "cell_type": "code",
      "metadata": {
        "id": "r-G4URR2rdOu",
        "colab_type": "code",
        "colab": {}
      },
      "source": [
        "# Plot most common words using wordcloud\n",
        "\n",
        "# Write your code here"
      ],
      "execution_count": 0,
      "outputs": []
    },
    {
      "cell_type": "markdown",
      "metadata": {
        "id": "LZuIKERBrjrd",
        "colab_type": "text"
      },
      "source": [
        "**Frequency of word wrt sentiment**\n",
        "\n",
        "\n",
        "Plotting most common word of specefic sentiment."
      ]
    },
    {
      "cell_type": "code",
      "metadata": {
        "id": "vKOqizR6rwxW",
        "colab_type": "code",
        "colab": {}
      },
      "source": [
        "# Divide review in two groups wrt sentiment value\n",
        "\n",
        "# Write your code here \n",
        "\n"
      ],
      "execution_count": 0,
      "outputs": []
    },
    {
      "cell_type": "code",
      "metadata": {
        "id": "BPKJRht-r9mF",
        "colab_type": "code",
        "colab": {}
      },
      "source": [
        "# Plot 25 most common words for sentiment 0 \n",
        "\n",
        "# Write your code here"
      ],
      "execution_count": 0,
      "outputs": []
    },
    {
      "cell_type": "code",
      "metadata": {
        "id": "msWTnubgsCoV",
        "colab_type": "code",
        "colab": {}
      },
      "source": [
        "# Plot 25 most common words for sentiment 1 \n",
        "\n",
        "# Write your code here"
      ],
      "execution_count": 0,
      "outputs": []
    },
    {
      "cell_type": "markdown",
      "metadata": {
        "id": "Kl-SAToosGPs",
        "colab_type": "text"
      },
      "source": [
        "## **Conclusions**"
      ]
    }
  ]
}