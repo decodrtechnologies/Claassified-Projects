{
 "cells": [
  {
   "cell_type": "markdown",
   "metadata": {},
   "source": [
    "# Error Handling"
   ]
  },
  {
   "cell_type": "markdown",
   "metadata": {},
   "source": [
    "##### In this we will see what are the types of errors and exceptions. We will see some methods to deal with the exceptions"
   ]
  },
  {
   "cell_type": "markdown",
   "metadata": {},
   "source": [
    "There are two types of errors in python known as syntax error and exception error. Here in this coding we will see about both syntaxt and exception errors"
   ]
  },
  {
   "cell_type": "markdown",
   "metadata": {},
   "source": [
    "### Syntax Error:\n",
    "The error that is produced in the syntax of a sequence of characters or tokens that is intended to be written in compile-time.\n",
    "The compiler will not run untill the error is rectified"
   ]
  },
  {
   "cell_type": "markdown",
   "metadata": {},
   "source": [
    "#### Write an example to detect a syntax error"
   ]
  },
  {
   "cell_type": "code",
   "execution_count": null,
   "metadata": {},
   "outputs": [],
   "source": [
    "#Write your code here:\n",
    "\n",
    "\n"
   ]
  },
  {
   "cell_type": "markdown",
   "metadata": {},
   "source": [
    "#### Write the rectified code"
   ]
  },
  {
   "cell_type": "code",
   "execution_count": null,
   "metadata": {},
   "outputs": [],
   "source": [
    "#Rectified Code:\n",
    "\n",
    "\n"
   ]
  },
  {
   "cell_type": "markdown",
   "metadata": {},
   "source": [
    "### Exception Error:\n",
    "An exception is an event, which occurs during the execution of a program that disrupts the normal flow of the program's instructions."
   ]
  },
  {
   "cell_type": "markdown",
   "metadata": {},
   "source": [
    "### Try\n",
    "The try block lets you test a block of code for errors.\n",
    "### Except\n",
    "The except block lets you handle the error.\n",
    "\n",
    "We can add multiple except based on the requirement\n",
    "\n",
    "#### Syntax:\n",
    "try:\n",
    "\n",
    "    code\n",
    "  \n",
    "except:\n",
    "\n",
    "    code"
   ]
  },
  {
   "cell_type": "markdown",
   "metadata": {},
   "source": [
    "#### Write an example to do try and execute"
   ]
  },
  {
   "cell_type": "code",
   "execution_count": null,
   "metadata": {},
   "outputs": [],
   "source": [
    "# Write your code here:\n",
    "\n",
    "\n",
    "\n",
    "\n"
   ]
  },
  {
   "cell_type": "markdown",
   "metadata": {},
   "source": [
    "There are many errors. \n",
    "\n",
    "One such error is Name Error. It is raised when an identifier is not found in the local or global namespace.\n"
   ]
  },
  {
   "cell_type": "markdown",
   "metadata": {},
   "source": [
    "#### Write an example for Name Error:"
   ]
  },
  {
   "cell_type": "code",
   "execution_count": null,
   "metadata": {},
   "outputs": [],
   "source": [
    "# Write your code here\n",
    "\n"
   ]
  },
  {
   "cell_type": "markdown",
   "metadata": {},
   "source": [
    "#### Write the code to rectify the name error:"
   ]
  },
  {
   "cell_type": "code",
   "execution_count": null,
   "metadata": {},
   "outputs": [],
   "source": [
    "# Write the code here\n",
    "\n",
    "\n",
    "\n",
    "\n"
   ]
  },
  {
   "cell_type": "markdown",
   "metadata": {},
   "source": [
    "### Else\n",
    "We can use the else keyword to define a block of code to be executed if there are no errors in the code.\n",
    "\n",
    "#### Syntax:\n",
    "\n",
    "try:\n",
    " \n",
    "     code\n",
    "\n",
    "except:\n",
    " \n",
    "     code\n",
    "     \n",
    "else:\n",
    "\n",
    "     code"
   ]
  },
  {
   "cell_type": "markdown",
   "metadata": {},
   "source": [
    "#### Write an example to perform else:"
   ]
  },
  {
   "cell_type": "code",
   "execution_count": null,
   "metadata": {},
   "outputs": [],
   "source": [
    "# Write your code here:\n",
    "\n",
    "\n"
   ]
  },
  {
   "cell_type": "markdown",
   "metadata": {},
   "source": [
    "### Finally\n",
    "The finally block will be executed regardless if the try block raises an error or not.\n",
    "\n",
    "#### Syntax:\n",
    "\n",
    "try:\n",
    " \n",
    "     code\n",
    "\n",
    "except:\n",
    " \n",
    "     code\n",
    "     \n",
    "finally:\n",
    "\n",
    "     code"
   ]
  },
  {
   "cell_type": "markdown",
   "metadata": {},
   "source": [
    "#### Write an example to perform final:"
   ]
  },
  {
   "cell_type": "code",
   "execution_count": null,
   "metadata": {},
   "outputs": [],
   "source": [
    "#Write your code here\n",
    "\n",
    "\n",
    "\n"
   ]
  },
  {
   "cell_type": "markdown",
   "metadata": {},
   "source": [
    "### Raise\n",
    "Raise is used to put an exception when there is a need of condition for the errors\n",
    "\n",
    "#### Syntax:\n",
    "\n",
    "statemnts\n",
    "\n",
    "condition \n",
    "\n",
    "raise: Exception and code"
   ]
  },
  {
   "cell_type": "markdown",
   "metadata": {},
   "source": [
    "There are many exceptions. First we will raise an basic one.\n",
    "\n",
    "Keyword:\n",
    "\n",
    "##### Exception \n",
    "Meaning: This is a base class for all exceptions\n",
    "\n",
    "#### Syntax:\n",
    "\n",
    "statements\n",
    "\n",
    "condition\n",
    "\n",
    "raise: Exception(print the lines)"
   ]
  },
  {
   "cell_type": "markdown",
   "metadata": {},
   "source": [
    "#### Write an example for doing the basic exception:"
   ]
  },
  {
   "cell_type": "code",
   "execution_count": null,
   "metadata": {},
   "outputs": [],
   "source": [
    "# Write your code here:\n",
    "\n",
    "\n"
   ]
  },
  {
   "cell_type": "markdown",
   "metadata": {},
   "source": [
    "One type of exception is type error.\n",
    "\n",
    "Keyword:\n",
    "    \n",
    "#### TypeError\n",
    "Meaning: It is raised when an operation or function is attempted that is invalid for the specified data type.\n",
    "\n",
    "#### Syntax:\n",
    "\n",
    "statements\n",
    "\n",
    "condition\n",
    "\n",
    "raise: TypeError(Print the lines)"
   ]
  },
  {
   "cell_type": "markdown",
   "metadata": {},
   "source": [
    "#### Write an example for doing the type error exception"
   ]
  },
  {
   "cell_type": "code",
   "execution_count": null,
   "metadata": {},
   "outputs": [],
   "source": [
    "# Write your code here:\n",
    "\n",
    "\n",
    "\n"
   ]
  },
  {
   "cell_type": "markdown",
   "metadata": {},
   "source": [
    "### NOTE: There are many other exceptions which can be handled in the similar way. "
   ]
  }
 ],
 "metadata": {
  "kernelspec": {
   "display_name": "Python 3",
   "language": "python",
   "name": "python3"
  },
  "language_info": {
   "codemirror_mode": {
    "name": "ipython",
    "version": 3
   },
   "file_extension": ".py",
   "mimetype": "text/x-python",
   "name": "python",
   "nbconvert_exporter": "python",
   "pygments_lexer": "ipython3",
   "version": "3.7.5"
  }
 },
 "nbformat": 4,
 "nbformat_minor": 2
}
