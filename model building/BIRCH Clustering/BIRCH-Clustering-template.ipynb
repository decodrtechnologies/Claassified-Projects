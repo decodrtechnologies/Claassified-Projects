{
 "cells": [
  {
   "cell_type": "markdown",
   "metadata": {},
   "source": [
    "# BRICH Clustering\n",
    "BIRCH (Balanced Iterative Reducing and Clustering using Hierarchies)\n",
    "\n",
    "* It is a scalable clustering method.\n",
    "* Designed for very large data sets\n",
    "* Only one scan of data is necessary\n",
    "* It is based on the notation of CF (Clustering Feature) a CF Tree.\n",
    "* CF tree is a height balanced tree that stores the clustering features for a hierarchical clustering.\n",
    "* Cluster of data points is represented by a triple of numbers (N,LS,SS) Where\n",
    "\n",
    "N= Number of items in the sub cluster\n",
    "\n",
    "LS=Linear sum of the points\n",
    "\n",
    "SS=sum of the squared of the points"
   ]
  },
  {
   "cell_type": "markdown",
   "metadata": {},
   "source": [
    "### A CF Tree structure is given as below:\n",
    "\n",
    "* Each non-leaf node has at most B entries.\n",
    "* Each leaf node has at most L CF entries which satisfy threshold T, a maximum diameter of radius\n",
    "* P(page size in bytes) is the maximum size of a node\n",
    "* Compact: each leaf node is a subcluster, not a data point"
   ]
  },
  {
   "cell_type": "markdown",
   "metadata": {},
   "source": [
    "### Basic Algorithm:\n",
    "\n",
    "* Phase 1: Load data into memory\n",
    "        Scan DB and load data into memory by building a CF tree. If memory is exhausted rebuild the tree from the leaf node.\n",
    "\n",
    "* Phase 2: Condense data\n",
    "        Resize the data set by building a smaller CF tree\n",
    "        Remove more outliers\n",
    "        Condensing is optional\n",
    "\n",
    "* Phase 3: Global clustering\n",
    "        Use existing clustering algorithm (e.g. KMEANS, HC) on CF entries\n",
    "\n",
    "* Phase 4: Cluster refining\n",
    "        Refining is optional\n",
    "        Fixes the problem with CF trees where same valued data points may be assigned to different leaf entries."
   ]
  },
  {
   "cell_type": "code",
   "execution_count": 2,
   "metadata": {},
   "outputs": [],
   "source": [
    "# importing the Libraries\n",
    "    #numpy\n",
    "    #pandas\n",
    "    #matplotlib import pyplot\n",
    "    #seaborn\n",
    "    #sklearn.cluster import Birch"
   ]
  },
  {
   "cell_type": "code",
   "execution_count": 1,
   "metadata": {
    "scrolled": false
   },
   "outputs": [],
   "source": [
    "# Reading the Data Set\n"
   ]
  },
  {
   "cell_type": "code",
   "execution_count": 3,
   "metadata": {},
   "outputs": [],
   "source": [
    "# Shape of Dataset\n"
   ]
  },
  {
   "cell_type": "code",
   "execution_count": 4,
   "metadata": {
    "scrolled": false
   },
   "outputs": [],
   "source": [
    "# description of dataset\n"
   ]
  },
  {
   "cell_type": "code",
   "execution_count": 5,
   "metadata": {
    "scrolled": true
   },
   "outputs": [],
   "source": [
    "# checking the null values\n"
   ]
  },
  {
   "cell_type": "code",
   "execution_count": 6,
   "metadata": {},
   "outputs": [],
   "source": [
    "# removing the null values\n"
   ]
  },
  {
   "cell_type": "code",
   "execution_count": 7,
   "metadata": {
    "scrolled": false
   },
   "outputs": [],
   "source": [
    "# plot of the dataset\n"
   ]
  },
  {
   "cell_type": "code",
   "execution_count": 8,
   "metadata": {},
   "outputs": [],
   "source": [
    "# Applyting the Brich\n"
   ]
  },
  {
   "cell_type": "code",
   "execution_count": 9,
   "metadata": {},
   "outputs": [],
   "source": [
    "# fitting the data TO birch\n"
   ]
  },
  {
   "cell_type": "code",
   "execution_count": 10,
   "metadata": {},
   "outputs": [],
   "source": [
    "# Getting the labels\n"
   ]
  },
  {
   "cell_type": "code",
   "execution_count": 11,
   "metadata": {},
   "outputs": [],
   "source": [
    "# visualisaiton of the birch dataset\n"
   ]
  },
  {
   "cell_type": "code",
   "execution_count": null,
   "metadata": {},
   "outputs": [],
   "source": []
  }
 ],
 "metadata": {
  "kernelspec": {
   "display_name": "Python 3",
   "language": "python",
   "name": "python3"
  },
  "language_info": {
   "codemirror_mode": {
    "name": "ipython",
    "version": 3
   },
   "file_extension": ".py",
   "mimetype": "text/x-python",
   "name": "python",
   "nbconvert_exporter": "python",
   "pygments_lexer": "ipython3",
   "version": "3.7.3"
  }
 },
 "nbformat": 4,
 "nbformat_minor": 4
}
