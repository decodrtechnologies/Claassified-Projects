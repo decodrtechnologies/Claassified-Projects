{
  "nbformat": 4,
  "nbformat_minor": 0,
  "metadata": {
    "colab": {
      "name": "Conditional-Probablity-Template.ipynb",
      "provenance": []
    },
    "kernelspec": {
      "name": "python3",
      "display_name": "Python 3"
    }
  },
  "cells": [
    {
      "cell_type": "markdown",
      "metadata": {
        "id": "cH6Ipukx29aq",
        "colab_type": "text"
      },
      "source": [
        "## **Conditional Probablity**\n",
        "\n",
        "\n",
        "\n",
        "\n",
        "**Task is to calculate the probability a student gets an A (80%+) in math, given they miss 10 or more classes.**"
      ]
    },
    {
      "cell_type": "markdown",
      "metadata": {
        "id": "kJw_rmXy3H6U",
        "colab_type": "text"
      },
      "source": [
        "## **Steps:**\n",
        "- Importing Libraries\n",
        "- Uploading  dataset\n",
        "- Preprocessing data \n",
        "- Building pivot table\n",
        "- Probablity Calculation\n",
        "\n",
        "- Conclusion\n"
      ]
    },
    {
      "cell_type": "markdown",
      "metadata": {
        "id": "koHNqorU3MNY",
        "colab_type": "text"
      },
      "source": [
        "## **Importing required Libraries**"
      ]
    },
    {
      "cell_type": "code",
      "metadata": {
        "id": "rwGKd18W3M_J",
        "colab_type": "code",
        "colab": {}
      },
      "source": [
        "import pandas as pd\n",
        "import numpy as np"
      ],
      "execution_count": 0,
      "outputs": []
    },
    {
      "cell_type": "markdown",
      "metadata": {
        "id": "bScBD0S63PmB",
        "colab_type": "text"
      },
      "source": [
        "## **Uploading Dataset**\n",
        "\n",
        "The data set contains attributes related to mathematics subject and students we are only concerned with absences and final score that is G3"
      ]
    },
    {
      "cell_type": "code",
      "metadata": {
        "id": "Fh6tSi5B3Ioj",
        "colab_type": "code",
        "colab": {}
      },
      "source": [
        "data = # Write here to import data  "
      ],
      "execution_count": 0,
      "outputs": []
    },
    {
      "cell_type": "code",
      "metadata": {
        "id": "dzMPj9bV28EY",
        "colab_type": "code",
        "colab": {}
      },
      "source": [
        "# Display the top 5 rows and column"
      ],
      "execution_count": 0,
      "outputs": []
    },
    {
      "cell_type": "markdown",
      "metadata": {
        "id": "tcLjEBlq28-7",
        "colab_type": "text"
      },
      "source": [
        "## **Preprocessing data**\n",
        "\n",
        "\n",
        "1.   The first task to  convert the column *G3* from (1-20) to (1-100) range so we need to   multiply it by 5.\n",
        "2.   If marks are greater than equal to 80 in column *G3* replace it with 1 else with 0\n",
        "3.   If the number of absence is greater than or equal to 10 in column *absences* replace it with 1 else with 0"
      ]
    },
    {
      "cell_type": "code",
      "metadata": {
        "id": "JUA2S7dX4LMj",
        "colab_type": "code",
        "colab": {}
      },
      "source": [
        "# Multiply 'G3' column data with 5\n",
        "\n",
        "# Write your code here"
      ],
      "execution_count": 0,
      "outputs": []
    },
    {
      "cell_type": "code",
      "metadata": {
        "id": "IqFTmxm54Urn",
        "colab_type": "code",
        "colab": {}
      },
      "source": [
        "# Check if values in column  has converted or not by unique method\n",
        "\n",
        "# Write your code here"
      ],
      "execution_count": 0,
      "outputs": []
    },
    {
      "cell_type": "code",
      "metadata": {
        "id": "GnLz6baz4ZKX",
        "colab_type": "code",
        "colab": {}
      },
      "source": [
        "# Replacing values of column G3 with 1 or 0 as condition stated in second point\n",
        "\n",
        "# Write your code here"
      ],
      "execution_count": 0,
      "outputs": []
    },
    {
      "cell_type": "code",
      "metadata": {
        "id": "WGGGS78d4myX",
        "colab_type": "code",
        "colab": {}
      },
      "source": [
        "# Check if values in column has replaced or not by unique method"
      ],
      "execution_count": 0,
      "outputs": []
    },
    {
      "cell_type": "code",
      "metadata": {
        "id": "0FmTCmd-4uNO",
        "colab_type": "code",
        "colab": {}
      },
      "source": [
        "# Plot the histogram of column G3"
      ],
      "execution_count": 0,
      "outputs": []
    },
    {
      "cell_type": "code",
      "metadata": {
        "id": "-gc8Uf8n4yZ5",
        "colab_type": "code",
        "colab": {}
      },
      "source": [
        "# Replace values of column 'absences' with 1 or 0 as stated in 3 point\n",
        "\n",
        "# Write your code here"
      ],
      "execution_count": 0,
      "outputs": []
    },
    {
      "cell_type": "code",
      "metadata": {
        "id": "uwePgf0D48VG",
        "colab_type": "code",
        "colab": {}
      },
      "source": [
        "# Check if values in column has converted or not by unique method\n",
        "\n",
        "# Write your code here"
      ],
      "execution_count": 0,
      "outputs": []
    },
    {
      "cell_type": "code",
      "metadata": {
        "id": "SpFvPhZm5CiH",
        "colab_type": "code",
        "colab": {}
      },
      "source": [
        "# Plot the histogram of column 'absences'\n",
        "\n",
        "# Write your code here"
      ],
      "execution_count": 0,
      "outputs": []
    },
    {
      "cell_type": "markdown",
      "metadata": {
        "id": "GP_lgVfN5Jhe",
        "colab_type": "text"
      },
      "source": [
        "## **Building pivot table**\n",
        "\n",
        "**What is pivot table ?**\n",
        "\n",
        "A pivot table is a data summarization tool that is used in the context of data processing. Pivot tables are used to summarize, sort, reorganize, group, count, total or average data stored in a database. It allows its users to transform columns into rows and rows into columns.\n",
        "\n",
        "**Pivot table in context with problem statment**\n",
        "\n",
        "Our problem statment is to calculate the probability a student gets an A (80%+) in math, given they miss 10 or more classes.\n",
        "\n",
        "So we have to count the values of intersection of cases like\n",
        "\n",
        "\n",
        "\n",
        "1.    Number of student with absence = 0 (miss less than 10 class) and G3=0 ( Grade is less than 80 percent )\n",
        "\n",
        "2.   Number of student with absence = 0 (miss less than 10 class) and G3=1 (Grade greater than or equal to 80 percent )\n",
        "\n",
        "3.  Number of student with absence = 1 (miss 10 or more classes) and G3=0 (Grade is less than 80 percent)\n",
        "\n",
        "4.   Number of student with absence = 1 (miss 10 or more classes) and G3=1(Grade greater than or equal to 80 percent)\n",
        "\n",
        "\n",
        "\n"
      ]
    },
    {
      "cell_type": "code",
      "metadata": {
        "id": "hTAOlTUV5Nqk",
        "colab_type": "code",
        "colab": {}
      },
      "source": [
        "# Add one more column to make building a pivot table easier.\n",
        "data['count'] = 1"
      ],
      "execution_count": 0,
      "outputs": []
    },
    {
      "cell_type": "code",
      "metadata": {
        "id": "pShfr8c65RaN",
        "colab_type": "code",
        "colab": {}
      },
      "source": [
        "# We only require 'G3', 'absences' and 'count column' so update the data frame with only 3 columns\n",
        "\n",
        "# Write your code here\n",
        "\n",
        "# Write here to check if updated or not by using head method"
      ],
      "execution_count": 0,
      "outputs": []
    },
    {
      "cell_type": "code",
      "metadata": {
        "id": "_iOd6lP15lf9",
        "colab_type": "code",
        "colab": {}
      },
      "source": [
        "# Build pivot table using pandas pivot_table method \n",
        "\n",
        "# Write your code here\n"
      ],
      "execution_count": 0,
      "outputs": []
    },
    {
      "cell_type": "markdown",
      "metadata": {
        "id": "CYjLJJKE5uS_",
        "colab_type": "text"
      },
      "source": [
        "\n",
        "## **Probablity Calculation**\n",
        "\n",
        "**Defining probablity terms**\n",
        "\n",
        "\n",
        "\n",
        "1.   P(A) is the probability of a grade of 80% or greater.\n",
        "2.   P(B) is the probability of missing 10 or more classes.\n",
        "3.   P(A|B) is the probability of a 80%+ grade, given missing 10 or more classes. \n",
        "4.   P(A ∩ B) is probablity of A and B to occur simultaneously or intersection of probablity of A and B.\n",
        "\n",
        "**What is Conditional Probablity**\n",
        "\n",
        "Conditional probability is a measure of the probability of an event occurring given that another event has (by assumption, presumption, assertion or evidence) occurred. If the event of interest is A and the event B is known or assumed to have occurred, \"the conditional probability of A given B\", or \"the probability of A under the condition B\", is usually written as P(A | B), or sometimes PB(A) or P(A / B). \n",
        "\n",
        "\n",
        " *P(A|B) = P(A ∩ B) / P(B)*\n",
        "\n",
        " Our task is to calculate P(A|B) \n",
        "\n",
        "\n"
      ]
    },
    {
      "cell_type": "code",
      "metadata": {
        "id": "7stbMEoC5yj9",
        "colab_type": "code",
        "colab": {}
      },
      "source": [
        "'Calculate probablity PA , PB and P(A∩B) where P(A∩B) is denoted by PA_and_PB with the help of pivot table'\n",
        "\n",
        "\n",
        "PA = # Write youre equation here\n",
        "PB = # Write youre equation here\n",
        "PA_and_PB = # Write youre equation here"
      ],
      "execution_count": 0,
      "outputs": []
    },
    {
      "cell_type": "code",
      "metadata": {
        "id": "r95IVt126PMs",
        "colab_type": "code",
        "colab": {}
      },
      "source": [
        "'Calculate conditional probablity denoted by P_Conditional'\n",
        "\n",
        "P_Conditional = # Write equation here"
      ],
      "execution_count": 0,
      "outputs": []
    },
    {
      "cell_type": "code",
      "metadata": {
        "id": "rHlLSTEX6Yh7",
        "colab_type": "code",
        "colab": {}
      },
      "source": [
        "# Print the probablity in percentage\n",
        "\n",
        "# Write your code here"
      ],
      "execution_count": 0,
      "outputs": []
    },
    {
      "cell_type": "markdown",
      "metadata": {
        "id": "lgKDfhZp6dn-",
        "colab_type": "text"
      },
      "source": [
        "\n",
        "## **Conclusion**"
      ]
    }
  ]
}