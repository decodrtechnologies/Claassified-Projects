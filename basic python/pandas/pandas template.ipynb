{
 "cells": [
  {
   "cell_type": "markdown",
   "metadata": {},
   "source": [
    "<h2>An Introduction to Pandas in Python</h2>"
   ]
  },
  {
   "cell_type": "markdown",
   "metadata": {},
   "source": [
    "Pandas is a software library written for the Python programming language. It is used for data manipulation and analysis. It provides special data structures and operations for the manipulation of numerical tables and time series.\n",
    "\n",
    "Pandas is the name for a Python module, which is rounding up the capabilities of Numpy, Scipy and Matplotlab. The word pandas is an acronym which is derived from \"Python and data analysis\" and \"panel data\"."
   ]
  },
  {
   "cell_type": "code",
   "execution_count": 1,
   "metadata": {},
   "outputs": [],
   "source": [
    "#pip install pandas\n"
   ]
  },
  {
   "cell_type": "markdown",
   "metadata": {},
   "source": [
    "<h3>Data structures in pandas</h3>"
   ]
  },
  {
   "cell_type": "markdown",
   "metadata": {},
   "source": [
    "\n",
    "<b>Dataframe and series</b>\n",
    "\n",
    "<b>A DataFrame is a two-dimensional array of values with both a row and a column index.</b>\n",
    "\n",
    "<b>A Series is a one-dimensional array of values with an index.</b>\n"
   ]
  },
  {
   "cell_type": "markdown",
   "metadata": {},
   "source": [
    "<h3>Series</h3>\n",
    "\n",
    "A Series is a one-dimensional labelled array-like object. It is capable of holding any data type, e.g. integers, floats, strings, Python objects, and so on. It can be seen as a data structure with two arrays: one functioning as the index, i.e. the labels, and the other one contains the actual data"
   ]
  },
  {
   "cell_type": "code",
   "execution_count": 2,
   "metadata": {},
   "outputs": [],
   "source": [
    "# make a series using pd.series function"
   ]
  },
  {
   "cell_type": "markdown",
   "metadata": {},
   "source": [
    "We haven't defined an index in our example, but we see two columns in our output: The right column contains our data, whereas the left column contains the index. Pandas created a default index starting with 0 going to 5, which is the length of the data minus 1."
   ]
  },
  {
   "cell_type": "code",
   "execution_count": 4,
   "metadata": {},
   "outputs": [],
   "source": [
    "# to get the index use series.index\n",
    "\n",
    "# to get the values use series.values\n"
   ]
  },
  {
   "cell_type": "markdown",
   "metadata": {},
   "source": [
    "<b>Difference between Numpy array and Series</b>"
   ]
  },
  {
   "cell_type": "markdown",
   "metadata": {},
   "source": [
    "There is often some confusion about whether Pandas is an alternative to Numpy, SciPy and Matplotlib. The truth is that it is built on top of Numpy. This means that Numpy is required by pandas. Scipy and Matplotlib on the other hand are not required by pandas but they are extremely useful. That's why the Pandas project lists them as \"optional dependency\"."
   ]
  },
  {
   "cell_type": "code",
   "execution_count": 5,
   "metadata": {},
   "outputs": [],
   "source": [
    "# define an array\n",
    "\n",
    "# print the array\n",
    "\n",
    "# print the values in the arrays using series.values\n",
    "\n",
    "# print the type of the values and type of the series\n",
    "\n"
   ]
  },
  {
   "cell_type": "code",
   "execution_count": 6,
   "metadata": {},
   "outputs": [],
   "source": [
    "# What is the actual difference\n",
    "\n",
    "# We can define Series objects with individual indices(We can use arbitrary indices."
   ]
  },
  {
   "cell_type": "code",
   "execution_count": 7,
   "metadata": {},
   "outputs": [],
   "source": [
    "# add two series with the same indices, we get a new series with the same index and the correponding values will be added\n",
    "\n",
    "# define two series\n",
    "\n",
    "# print the values of aggregate of the two series\n",
    "\n",
    "\n"
   ]
  },
  {
   "cell_type": "code",
   "execution_count": 8,
   "metadata": {},
   "outputs": [],
   "source": [
    "# The indices do not have to be the same for the Series addition. The index will be the \"union\" of both indices. \n",
    "\n",
    "# If an index doesn't occur in both Series, the value for this Series will be NaN\n"
   ]
  },
  {
   "cell_type": "code",
   "execution_count": 9,
   "metadata": {},
   "outputs": [],
   "source": [
    "# indices can be completely different, as in the following example. \n",
    "\n",
    "# We have two indices. One is the Turkish translation of the English fruit names:\n",
    "\n",
    "# print the two series\n",
    "\n"
   ]
  },
  {
   "cell_type": "markdown",
   "metadata": {},
   "source": [
    "<h3>Series indexing</h3>"
   ]
  },
  {
   "cell_type": "code",
   "execution_count": 10,
   "metadata": {},
   "outputs": [],
   "source": [
    "# define an array\n",
    "\n",
    "# print the first element of the series"
   ]
  },
  {
   "cell_type": "markdown",
   "metadata": {},
   "source": [
    "<h3>pandas.Series.apply</h3>"
   ]
  },
  {
   "cell_type": "markdown",
   "metadata": {},
   "source": [
    "The function \"func\" will be applied to the Series and it returns either a Series or a DataFrame, depending on \"func\".\n",
    "\n",
    "Parameter\t          Meaning\n",
    "func\t              a function, which can be a NumPy function that will be applied to the entire Series or a Python                                 function that will be applied to every single value of the series\n",
    "convert_dtype\t      A boolean value. If it is set to True (default), apply will try to find better dtype for elementwise                           function results. If False, leave as dtype=object\n",
    "args\t              Positional arguments which will be passed to the function \"func\" additionally to the values from the                           series.\n",
    "**kwds\t              Additional keyword arguments will be passed as keywords to the function"
   ]
  },
  {
   "cell_type": "code",
   "execution_count": 12,
   "metadata": {},
   "outputs": [],
   "source": [
    "# define a series\n",
    "\n",
    "# apply log function on the series\n",
    "\n",
    "# print the series\n",
    "\n"
   ]
  },
  {
   "cell_type": "code",
   "execution_count": 13,
   "metadata": {},
   "outputs": [],
   "source": [
    "# Let's assume, we have the following task. The test the amount of fruit for every kind.\n",
    "\n",
    "# If there are less than 50 available, we will augment the stock by 10:\n",
    "\n",
    "# using the lambda function apply conditional statements on the series\n",
    "\n"
   ]
  },
  {
   "cell_type": "code",
   "execution_count": 14,
   "metadata": {},
   "outputs": [],
   "source": [
    "# Conditioning in a series\n",
    "\n"
   ]
  },
  {
   "cell_type": "code",
   "execution_count": 15,
   "metadata": {},
   "outputs": [],
   "source": [
    "# check whether an element is there in the series or not for example- \"orange\" in S"
   ]
  },
  {
   "cell_type": "code",
   "execution_count": 16,
   "metadata": {},
   "outputs": [],
   "source": [
    "# Creating Series Objects from Dictionaries\n",
    "\n",
    "# print the series\n"
   ]
  },
  {
   "cell_type": "markdown",
   "metadata": {},
   "source": [
    "<h3>Handling missing data in pandas</h3>\n",
    "\n",
    "One problem in dealing with data analysis tasks consists in missing data. Pandas makes it as easy as possible to work with missing data.\n",
    "\n"
   ]
  },
  {
   "cell_type": "code",
   "execution_count": 17,
   "metadata": {},
   "outputs": [],
   "source": [
    "# define the series\n",
    "\n",
    "# then print the series with the values\n"
   ]
  },
  {
   "cell_type": "markdown",
   "metadata": {},
   "source": [
    "Due to the Nan values the population values for the other cities are turned into floats. There is no missing data in the 9following examples, so the values are int:\n",
    "\n"
   ]
  },
  {
   "cell_type": "code",
   "execution_count": 18,
   "metadata": {},
   "outputs": [],
   "source": [
    "# print the new series"
   ]
  },
  {
   "cell_type": "code",
   "execution_count": 21,
   "metadata": {},
   "outputs": [],
   "source": [
    "# Finding whether a data is null or not\n",
    "\n",
    "# using series.isnull() we can check null values in a data\n"
   ]
  },
  {
   "cell_type": "code",
   "execution_count": 22,
   "metadata": {},
   "outputs": [],
   "source": [
    "# seeing all the null values in the dataset using series.isnull().sum()\n"
   ]
  },
  {
   "cell_type": "code",
   "execution_count": 23,
   "metadata": {},
   "outputs": [],
   "source": [
    "# Drop the nulls\n",
    "\n",
    "# using series.dropna() dropping the null values\n"
   ]
  },
  {
   "cell_type": "code",
   "execution_count": 24,
   "metadata": {},
   "outputs": [],
   "source": [
    "# Fill the nulls\n",
    "\n",
    "# filling the null values using fillna() function\n"
   ]
  },
  {
   "cell_type": "code",
   "execution_count": 25,
   "metadata": {},
   "outputs": [],
   "source": [
    "# Still the values are not integers, we can convert it into int\n",
    "\n",
    "# if you want to convert the series to a certain datatype use dataset.astype(datatype)\n"
   ]
  },
  {
   "cell_type": "code",
   "execution_count": 26,
   "metadata": {},
   "outputs": [],
   "source": [
    "# define a series \n",
    "\n",
    "# use the map function to assign values\n"
   ]
  },
  {
   "cell_type": "code",
   "execution_count": 27,
   "metadata": {},
   "outputs": [],
   "source": [
    "# using series.index.map() function to set the index\n",
    "\n"
   ]
  }
 ],
 "metadata": {
  "kernelspec": {
   "display_name": "Python 3",
   "language": "python",
   "name": "python3"
  },
  "language_info": {
   "codemirror_mode": {
    "name": "ipython",
    "version": 3
   },
   "file_extension": ".py",
   "mimetype": "text/x-python",
   "name": "python",
   "nbconvert_exporter": "python",
   "pygments_lexer": "ipython3",
   "version": "3.7.4"
  }
 },
 "nbformat": 4,
 "nbformat_minor": 2
}
