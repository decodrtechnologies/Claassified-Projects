{
 "cells": [
  {
   "cell_type": "markdown",
   "metadata": {},
   "source": [
    "# List Comprehensions"
   ]
  },
  {
   "cell_type": "markdown",
   "metadata": {},
   "source": [
    ">## Objective: \n",
    "\n",
    "To understand the working of lists comprehensions and implement it using five different examples "
   ]
  },
  {
   "cell_type": "markdown",
   "metadata": {},
   "source": [
    "### List comprehensions"
   ]
  },
  {
   "cell_type": "markdown",
   "metadata": {},
   "source": [
    "List comprehensions are used for creating new lists from other iterables.\n",
    "\n",
    "As list comprehensions return lists, they consist of brackets containing the expression, which is executed for each element along with the `for loop` to iterate over each element.\n",
    "\n",
    "The basic syntax is :\n",
    "\n",
    "     new_list = [expression for_loop_one_or_more conditions]\n",
    "\n",
    "where , \n",
    "\n",
    "**new_list** : The resulting list.\n",
    "\n",
    "**expression** : The operation performed whenever an element fulfills the given condition. The result of this expression is stored in **new_list**\n",
    "\n",
    "**for element** in old_list : Iterates over each element in old_list\n",
    "\n",
    "**if condition** : Apply a condition using an If-statement."
   ]
  },
  {
   "cell_type": "markdown",
   "metadata": {},
   "source": [
    "<img src=\"https://4.bp.blogspot.com/-uRPZqKbIGwQ/XRtgWhC6qqI/AAAAAAAAH0w/--oGnwKsnpo00GwQgH2gV3RPwHwK8uONgCLcBGAs/s1600/comprehension.PNG\">"
   ]
  },
  {
   "cell_type": "markdown",
   "metadata": {},
   "source": [
    "This is very similar to the set builder form in mathematics,\n",
    "\n",
    "**In Set-Builder Forms** :\n",
    "\n",
    "- { x^2: x is a natural number less than 10 }\n",
    "- { x: x is a whole number less than 20, x is even }\n",
    "- { x: x is an alphabet in word ‘MATHEMATICS’, x is a vowel }\n"
   ]
  },
  {
   "cell_type": "code",
   "execution_count": 1,
   "metadata": {},
   "outputs": [
    {
     "name": "stdout",
     "output_type": "stream",
     "text": [
      "[2, 3, 0, 1, 6, 7, 4, 5, 10, 11]\n",
      "[2, 4, 6, 8, 10, 12, 14, 16, 18]\n",
      "['A', 'E', 'A', 'I']\n"
     ]
    }
   ],
   "source": [
    "# The same thing when coded as Lists Comprehensions would be : \n",
    "\n",
    "list1 = [x^2 for x in range(0,10)]\n",
    "list2 = [x for x in range(1,20) if x%2==0]\n",
    "list3 = [x for x in 'MATHEMATICS' if x in ['A','E','I','O','U']]\n",
    "\n",
    "print(list1)\n",
    "print(list2)\n",
    "print(list3)"
   ]
  },
  {
   "cell_type": "markdown",
   "metadata": {},
   "source": [
    "Now that the syntax and working is understood. you'll implement it with the help of examples to get a good grip on this. Lists comprehensions when used properly is a very powerful tool which saves both computing time and amount of code written"
   ]
  },
  {
   "cell_type": "markdown",
   "metadata": {},
   "source": [
    "### Example 1 : \n",
    "\n",
    "To print the common numbers between two lists L1 and L2"
   ]
  },
  {
   "cell_type": "markdown",
   "metadata": {},
   "source": [
    "**NOTE** : The syntax can be written as :\n",
    "\n",
    "     [ output_expression() for(set of values to iterate) if(conditional filtering) ]"
   ]
  },
  {
   "cell_type": "markdown",
   "metadata": {},
   "source": [
    "**TASK : Given L1 and L2 , find the common elements using `for` loop**"
   ]
  },
  {
   "cell_type": "code",
   "execution_count": 2,
   "metadata": {},
   "outputs": [],
   "source": [
    "\n",
    "L1 = [1, 2, 3, 4]\n",
    "L2 = [2, 3, 4, 5]\n",
    "\n",
    "### START CODE HERE\n",
    "\n",
    "## Remember to create an empty list first ,  in which you'll append the values\n",
    "\n",
    "### END CODE"
   ]
  },
  {
   "cell_type": "markdown",
   "metadata": {},
   "source": [
    "**TASK : Now try the same thing with List Comprehensions**"
   ]
  },
  {
   "cell_type": "code",
   "execution_count": 3,
   "metadata": {},
   "outputs": [],
   "source": [
    "### START CODE HERE : (~1 Line of code)\n",
    "\n",
    "### END CODE"
   ]
  },
  {
   "cell_type": "markdown",
   "metadata": {},
   "source": [
    "**Analyse how convenient list comprehensions is compared to writing functions both in simplicity and computational time**"
   ]
  },
  {
   "cell_type": "markdown",
   "metadata": {},
   "source": [
    "### Example 2 : "
   ]
  },
  {
   "cell_type": "markdown",
   "metadata": {},
   "source": [
    "To print squares of even numbers and cubes of odd numbers from a list `L = [1,2,3,4,5,6,7,8,9,10]` "
   ]
  },
  {
   "cell_type": "markdown",
   "metadata": {},
   "source": [
    "**TASK : Create the list `L` given above using list comprehensions and range function**"
   ]
  },
  {
   "cell_type": "code",
   "execution_count": 4,
   "metadata": {},
   "outputs": [],
   "source": [
    "### START CODE HERE : (~1 line of code)\n",
    "\n",
    "### END CODE"
   ]
  },
  {
   "cell_type": "markdown",
   "metadata": {},
   "source": [
    "**TASK : Create a `for` loop and `if` condition to accomplish the task on the above created list**"
   ]
  },
  {
   "cell_type": "code",
   "execution_count": 5,
   "metadata": {},
   "outputs": [],
   "source": [
    "### START CODE HERE  :\n",
    "\n",
    "## Remember to create an empty list first ,  in which you'll append the values\n",
    "\n",
    "### END CODE"
   ]
  },
  {
   "cell_type": "markdown",
   "metadata": {},
   "source": [
    "**TASK : Accomplish the same task using List Comprehensions**"
   ]
  },
  {
   "cell_type": "code",
   "execution_count": 6,
   "metadata": {},
   "outputs": [],
   "source": [
    "### START CODE HERE : (~1 Line of code)\n",
    "\n",
    "### END CODE"
   ]
  },
  {
   "cell_type": "markdown",
   "metadata": {},
   "source": [
    "### Example 3 : "
   ]
  },
  {
   "cell_type": "markdown",
   "metadata": {},
   "source": [
    "> #### Tuples\n",
    "\n",
    "To print out all ordered pairs between two lists as tuples. Use previously defined L1 and L2 for this"
   ]
  },
  {
   "cell_type": "markdown",
   "metadata": {},
   "source": [
    "**TASK : Print out all odered pairs between L1 and L2 i.e (a,b) where a belongst to L1 and b to L2 (Cartesian Product) as tuples using comprehension**"
   ]
  },
  {
   "cell_type": "code",
   "execution_count": 7,
   "metadata": {},
   "outputs": [],
   "source": [
    "### START CODE HERE : (~1 Line of code)\n",
    "\n",
    "### END CODE"
   ]
  },
  {
   "cell_type": "markdown",
   "metadata": {},
   "source": [
    "**Finally its imperative to understand that lists comprehensions is not only valid for lists but can also be used elsewhere, The below examples would give a better understanding of it**"
   ]
  },
  {
   "cell_type": "markdown",
   "metadata": {},
   "source": [
    "### Example 4 : "
   ]
  },
  {
   "cell_type": "markdown",
   "metadata": {},
   "source": [
    "> #### Dictionaries"
   ]
  },
  {
   "cell_type": "markdown",
   "metadata": {},
   "source": [
    "**TASK : Use lists `L_country` and `L_capital` to create a `dictionary` having L_country as keys and L_capital as values using comprehensions**"
   ]
  },
  {
   "cell_type": "code",
   "execution_count": 8,
   "metadata": {},
   "outputs": [],
   "source": [
    "L_country = ['India', 'Pakistan', 'Nepal', 'Bhutan', 'China', 'Bangladesh']\n",
    "L_capital = ['New Delhi', 'Islamabad','Kathmandu', 'Thimphu', 'Beijing', 'Dhaka']\n",
    "\n",
    "### START CODE HERE : (~1 Line of code)\n",
    "\n",
    "### END CODE"
   ]
  },
  {
   "cell_type": "markdown",
   "metadata": {},
   "source": [
    "### Example 5 :"
   ]
  },
  {
   "cell_type": "markdown",
   "metadata": {},
   "source": [
    "> #### Strings"
   ]
  },
  {
   "cell_type": "markdown",
   "metadata": {},
   "source": [
    "Comprehensions can also be used to conveniently perform operations on strings"
   ]
  },
  {
   "cell_type": "markdown",
   "metadata": {},
   "source": [
    "**TASK : Do the following operations on string elements of a list `planets` using a single line of code/comprehension and then print the changed elements**\n",
    "\n",
    "**If planet's name length is less than 6 then ,**\n",
    "- Capitalise the whole word , using '.upper()'\n",
    "- Add '!' at the end of the word \n",
    "\n",
    "eg. venus should be 'VENUS!' "
   ]
  },
  {
   "cell_type": "code",
   "execution_count": 9,
   "metadata": {},
   "outputs": [],
   "source": [
    "planets = ['Mercury', 'Venus', 'Earth', 'Mars', 'Jupiter', 'Saturn', 'Uranus', 'Neptune']\n",
    "\n",
    "### START CODE HERE : (~1 Line of code)\n",
    "\n",
    "### END CODE"
   ]
  },
  {
   "cell_type": "markdown",
   "metadata": {},
   "source": [
    "## Conclusion: \n",
    "\n",
    "Understand the usefulness and different applications of lists comprehensions"
   ]
  }
 ],
 "metadata": {
  "kernelspec": {
   "display_name": "Python 3",
   "language": "python",
   "name": "python3"
  },
  "language_info": {
   "codemirror_mode": {
    "name": "ipython",
    "version": 3
   },
   "file_extension": ".py",
   "mimetype": "text/x-python",
   "name": "python",
   "nbconvert_exporter": "python",
   "pygments_lexer": "ipython3",
   "version": "3.7.4"
  }
 },
 "nbformat": 4,
 "nbformat_minor": 2
}
