{
 "cells": [
  {
   "cell_type": "markdown",
   "metadata": {},
   "source": [
    "# Date and Time "
   ]
  },
  {
   "cell_type": "markdown",
   "metadata": {},
   "source": [
    ">## Objective : \n",
    "\n",
    "To understand Datetime working and implement its functions"
   ]
  },
  {
   "cell_type": "markdown",
   "metadata": {},
   "source": [
    "**Importing Libraries**"
   ]
  },
  {
   "cell_type": "code",
   "execution_count": 1,
   "metadata": {},
   "outputs": [],
   "source": [
    "from datetime import date\n",
    "from datetime import time\n",
    "from datetime import datetime\n",
    "import numpy as np\n",
    "import pandas as pd"
   ]
  },
  {
   "cell_type": "markdown",
   "metadata": {},
   "source": [
    "**Getting Today's Date**"
   ]
  },
  {
   "cell_type": "markdown",
   "metadata": {},
   "source": [
    "**TASK : Get todays date using `today()` and store it in a variable called today**"
   ]
  },
  {
   "cell_type": "code",
   "execution_count": 2,
   "metadata": {},
   "outputs": [],
   "source": [
    "### START CODE HERE : \n",
    "\n",
    "### END CODE"
   ]
  },
  {
   "cell_type": "markdown",
   "metadata": {},
   "source": [
    "Now , today is an object of date class and thus can invoke methods/functions of it by using '.' operator ahead of it . Thus , you'll implement it by using `year`,`month` and `day` "
   ]
  },
  {
   "cell_type": "markdown",
   "metadata": {},
   "source": [
    "**TASK : Print today's day , month and year**"
   ]
  },
  {
   "cell_type": "code",
   "execution_count": 3,
   "metadata": {},
   "outputs": [],
   "source": [
    "### START CODE HERE : \n",
    "\n",
    "### END CODE"
   ]
  },
  {
   "cell_type": "markdown",
   "metadata": {},
   "source": [
    "You can still extract further details about it like what day of the week is it by using `weekday()` method"
   ]
  },
  {
   "cell_type": "markdown",
   "metadata": {},
   "source": [
    "**NOTE :** `weekday()` outputs the number of the day i.e between 0-6 and not the name"
   ]
  },
  {
   "cell_type": "markdown",
   "metadata": {},
   "source": [
    "**TASK : Print which day it is today**"
   ]
  },
  {
   "cell_type": "markdown",
   "metadata": {},
   "source": [
    "**HINT** : create a list having all the names of weekdays and using the return value from `weekday()` as index , print the day"
   ]
  },
  {
   "cell_type": "code",
   "execution_count": 4,
   "metadata": {},
   "outputs": [],
   "source": [
    "### START CODE HERE : \n",
    "\n",
    "### END CODE"
   ]
  },
  {
   "cell_type": "markdown",
   "metadata": {},
   "source": [
    "As can be seen , `today()` gives good detail about the present day but not that much of the time. To also get an idea about the time , you have to use the `now()` method instead. \n",
    "\n",
    "`now()` is a method of class datetime only and an object can be created again with the help of '.' (dot) operator in front of the class name i.e datetime "
   ]
  },
  {
   "cell_type": "markdown",
   "metadata": {},
   "source": [
    "**TASK : Use `now()` to get today's date and time and store it in a variable called `today`**"
   ]
  },
  {
   "cell_type": "code",
   "execution_count": 5,
   "metadata": {},
   "outputs": [],
   "source": [
    "### START CODE HERE : \n",
    "\n",
    "### END CODE"
   ]
  },
  {
   "cell_type": "markdown",
   "metadata": {},
   "source": [
    "Now you can extract time from this using another datetime method called `time()` for which the arguement would be the object from which time has to be extracted i.e `today` in this case "
   ]
  },
  {
   "cell_type": "markdown",
   "metadata": {},
   "source": [
    "**TASK : Get the current time , i.e the time at the moment and store it in `CurrTime`**"
   ]
  },
  {
   "cell_type": "code",
   "execution_count": 6,
   "metadata": {},
   "outputs": [],
   "source": [
    "### START CODE HERE : \n",
    "\n",
    "### END CODE"
   ]
  },
  {
   "cell_type": "markdown",
   "metadata": {},
   "source": [
    "So to extract only time ,one can use `time()` , however every other method like to get hour using `.hour` or minutes using `.minute` works with both `datetime.now object` and `datetime.time object` . Also you can use `.month` and other methods for datetime.now object. Thus from any date you can now extract its year,month,day,hour,minute,second and time as a whole. "
   ]
  },
  {
   "cell_type": "markdown",
   "metadata": {},
   "source": [
    "**TASK : Using `now()` , get current time and date , store it in a variable called `curr` and print its year , month , day , hour , minute , second**"
   ]
  },
  {
   "cell_type": "code",
   "execution_count": 7,
   "metadata": {},
   "outputs": [],
   "source": [
    "### START CODE HERE : \n",
    "\n",
    "### END CODE"
   ]
  },
  {
   "cell_type": "markdown",
   "metadata": {},
   "source": [
    "**Date Formatting :**  To get readable and easy to understand date format like 17th June, 2010 . There are formatting codes which can be used instead of creating a lists of month names and then mapping index"
   ]
  },
  {
   "cell_type": "markdown",
   "metadata": {},
   "source": [
    "Using **strftime()** function , we can simply just write codes as the arguments of the function to get the value we want , As a brief reference , some of the codes are: \n",
    "\n",
    "     Code\t               Meaning\t                         Example\n",
    "     %a\t      Weekday as locale’s abbreviated name.\t          Mon\n",
    "     %A\t          Weekday as locale’s full name.\t           Monday\n",
    "     %d\t   Day of the month as a zero-padded decimal number     30\n",
    "     %b\t       Month as locale’s abbreviated name               Sep\n",
    "     %B\t           Month as locale’s full name                September\n",
    "     %y\t  Year without century as a zero-padded decimal number\t13\n",
    "     %Y\t       Year with century as a decimal number             2013"
   ]
  },
  {
   "cell_type": "markdown",
   "metadata": {},
   "source": [
    "**TASK : Using the codes above with strftime() , print `curr` month as locales full name**"
   ]
  },
  {
   "cell_type": "code",
   "execution_count": 8,
   "metadata": {},
   "outputs": [],
   "source": [
    "### START CODE HERE : (~1 Line of code)\n",
    "\n",
    "### END CODE"
   ]
  },
  {
   "cell_type": "markdown",
   "metadata": {},
   "source": [
    "Now , similarly print the whole date as '17th June ,2010 (Thursday) ' . Use the below image as reference . \n",
    "In the image given below, `now` is the datetime.now object \n",
    "\n",
    "<img src=\"https://cdn.programiz.com/sites/tutorial2program/files/python-strftime-format-2.jpg\">"
   ]
  },
  {
   "cell_type": "markdown",
   "metadata": {},
   "source": [
    "you can see the full list of codes [here](https://strftime.org/)"
   ]
  },
  {
   "cell_type": "markdown",
   "metadata": {},
   "source": [
    "**TASK : Print the `curr` date in the given format using strftime()**"
   ]
  },
  {
   "cell_type": "code",
   "execution_count": 9,
   "metadata": {},
   "outputs": [],
   "source": [
    "### START CODE HERE : (~1 Line of code)\n",
    "\n",
    "### END CODE"
   ]
  },
  {
   "cell_type": "markdown",
   "metadata": {},
   "source": [
    "## Conclusion \n",
    "\n",
    "Understand the usefulnes and applications of date-time functions"
   ]
  }
 ],
 "metadata": {
  "kernelspec": {
   "display_name": "Python 3",
   "language": "python",
   "name": "python3"
  },
  "language_info": {
   "codemirror_mode": {
    "name": "ipython",
    "version": 3
   },
   "file_extension": ".py",
   "mimetype": "text/x-python",
   "name": "python",
   "nbconvert_exporter": "python",
   "pygments_lexer": "ipython3",
   "version": "3.7.4"
  }
 },
 "nbformat": 4,
 "nbformat_minor": 2
}
